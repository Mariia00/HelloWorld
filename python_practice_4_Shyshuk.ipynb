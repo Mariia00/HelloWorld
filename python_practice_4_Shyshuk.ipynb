{
  "nbformat": 4,
  "nbformat_minor": 0,
  "metadata": {
    "colab": {
      "provenance": [],
      "include_colab_link": true
    },
    "kernelspec": {
      "name": "python3",
      "display_name": "Python 3"
    },
    "language_info": {
      "name": "python"
    }
  },
  "cells": [
    {
      "cell_type": "markdown",
      "metadata": {
        "id": "view-in-github",
        "colab_type": "text"
      },
      "source": [
        "<a href=\"https://colab.research.google.com/github/Mariia00/HelloWorld/blob/main/python_practice_4_Shyshuk.ipynb\" target=\"_parent\"><img src=\"https://colab.research.google.com/assets/colab-badge.svg\" alt=\"Open In Colab\"/></a>"
      ]
    },
    {
      "cell_type": "markdown",
      "source": [
        "# I. Functions. Arguments."
      ],
      "metadata": {
        "id": "-xM96SkgLNxS"
      }
    },
    {
      "cell_type": "markdown",
      "source": [
        "0. (5б) Назвіть 4 частини, з яких складається визначення функції."
      ],
      "metadata": {
        "id": "RFkkDC1jikAI"
      }
    },
    {
      "cell_type": "code",
      "source": [
        "# def - ключове слово, яке ми пишемо на початку.\n",
        "# назва (функції) - пишиться після def. Це назва нашої функції.\n",
        "# (): - після, ми пишимо круглі душки з двокрапкою.\n",
        "# тіло (функції) - з відповідними відступами записуємо код."
      ],
      "metadata": {
        "id": "tV4xxWnFisqZ"
      },
      "execution_count": 112,
      "outputs": []
    },
    {
      "cell_type": "markdown",
      "source": [
        "1. (4б) Визначте функцію, що приймає 2 аргументи та повертає результат ділення 1го аргумента на інший."
      ],
      "metadata": {
        "id": "mg6qjOB2LbVs"
      }
    },
    {
      "cell_type": "code",
      "execution_count": 113,
      "metadata": {
        "id": "lUbA_FWjKxQD"
      },
      "outputs": [],
      "source": [
        "def division(num1, num2):\n",
        "  return num1 / num2"
      ]
    },
    {
      "cell_type": "markdown",
      "source": [
        "2. (2б) Викличте вище визначену функцію, де другий аргумент дорівнює 0."
      ],
      "metadata": {
        "id": "wMAYj2KXLpiJ"
      }
    },
    {
      "cell_type": "code",
      "source": [
        "try:\n",
        "    division(5, 0)\n",
        "except:\n",
        "    print(\"Try dividing by zero\")"
      ],
      "metadata": {
        "id": "103jJj32Lo4Y",
        "colab": {
          "base_uri": "https://localhost:8080/"
        },
        "outputId": "41d5724f-ace5-4482-c802-7eb84738d6fb"
      },
      "execution_count": 114,
      "outputs": [
        {
          "output_type": "stream",
          "name": "stdout",
          "text": [
            "Try dividing by zero\n"
          ]
        }
      ]
    },
    {
      "cell_type": "markdown",
      "source": [
        "3. (6б) Перевизначте функцію так, щоби у випадку ділення на 0 функція повертала None, а в решті випадків - результат розрахунків."
      ],
      "metadata": {
        "id": "eT-pwEwPMD3T"
      }
    },
    {
      "cell_type": "code",
      "source": [
        "def division(num1, num2):\n",
        "  if num2 == 0:\n",
        "    return None\n",
        "  else:\n",
        "    return num1 / num2\n",
        "\n",
        "print(division(5, 0))"
      ],
      "metadata": {
        "id": "1h6Jz7CKMTk_",
        "colab": {
          "base_uri": "https://localhost:8080/"
        },
        "outputId": "2178a83b-eb69-4966-e266-3e25df64bf74"
      },
      "execution_count": 115,
      "outputs": [
        {
          "output_type": "stream",
          "name": "stdout",
          "text": [
            "None\n"
          ]
        }
      ]
    },
    {
      "cell_type": "markdown",
      "source": [
        "4. (5б) Напишіть документацію (docstring) у форматі Google до функції, що має обчислювати суму двох чисел."
      ],
      "metadata": {
        "id": "iuTiofyDMVMG"
      }
    },
    {
      "cell_type": "code",
      "source": [
        "\"\"\"\n",
        "Ця функція розраховує суму двох чисел.\n",
        "Приймає два аргументи та повертає їх суму.\n",
        "\n",
        "\"\"\"\n",
        "\n",
        "def sum(num1, num2):\n",
        "    print(num1 + num2)\n",
        "\n",
        "sum(1, 4)"
      ],
      "metadata": {
        "id": "a9E6iU_iNyYQ",
        "colab": {
          "base_uri": "https://localhost:8080/"
        },
        "outputId": "41db44ff-cfd4-4ed1-c89c-98cd30680837"
      },
      "execution_count": 116,
      "outputs": [
        {
          "output_type": "stream",
          "name": "stdout",
          "text": [
            "5\n"
          ]
        }
      ]
    },
    {
      "cell_type": "markdown",
      "source": [
        "5. (4б) Реалізуйте цю функцію (із додаванням docstring у визначення функції)."
      ],
      "metadata": {
        "id": "ZvrsUQZFN5VT"
      }
    },
    {
      "cell_type": "code",
      "source": [
        "def sum(num1, num2):\n",
        "    \"\"\"\n",
        "Ця функція обчислює суму двох чисел.\n",
        "\n",
        "Аргументи:\n",
        "  num1 (float): перший доданок\n",
        "  num2 (float): другий доданок\n",
        "\n",
        "Повернення:\n",
        "  float: Сума num1 та num2.\n",
        "    \"\"\"\n",
        "    return num1 + num2\n",
        "\n",
        "    \"\"\"\n",
        "Функція приймає приймає два значення.\n",
        "Після цього обчислює їх суму та повертає результат.\n",
        "\n",
        "    \"\"\"\n",
        "result = sum(10, 5)\n",
        "print(result)"
      ],
      "metadata": {
        "id": "K5h3KTVuOBP3",
        "colab": {
          "base_uri": "https://localhost:8080/"
        },
        "outputId": "bcac398b-ab98-4804-b48e-bbaa247d46e0"
      },
      "execution_count": 117,
      "outputs": [
        {
          "output_type": "stream",
          "name": "stdout",
          "text": [
            "15\n"
          ]
        }
      ]
    },
    {
      "cell_type": "markdown",
      "source": [
        "6. (6б) Визначте функцію, що віднімає одне число від іншого (підказка: це буде 2 аргументи функції). При чому, якщо не визначити, скільки саме має бути віднято від числа, за замовчуванням має відніматися 1. Викличте функцію, передаючи тільки один аргумент."
      ],
      "metadata": {
        "id": "IILi2wfYOwYb"
      }
    },
    {
      "cell_type": "code",
      "source": [
        "def subtraction(num1, num2 = 1):\n",
        "  return num1 - num2\n",
        "\n",
        "print(subtraction(6))"
      ],
      "metadata": {
        "id": "hybHnk8ROvxQ",
        "colab": {
          "base_uri": "https://localhost:8080/"
        },
        "outputId": "9af16a37-4b25-4029-bc0a-ea57faa06b4f"
      },
      "execution_count": 118,
      "outputs": [
        {
          "output_type": "stream",
          "name": "stdout",
          "text": [
            "5\n"
          ]
        }
      ]
    },
    {
      "cell_type": "markdown",
      "source": [
        "7. (10б) Визначте функцію, яка приймає iterable (ітерабельний обʼєкт, напр. список), що складається з 7ми рядкових значень - назв погодних умов (напр. \"sunny\") за кожен день у тижні. Повертає функція словник, де ключами є рядки з погодними умовами, а значеннями - кількість разів, скільки дана погода була протягом тижня (напр. {'sunny': 1, ...})."
      ],
      "metadata": {
        "id": "UK6o8zcuR7cH"
      }
    },
    {
      "cell_type": "code",
      "source": [
        "def weather(weather):\n",
        "    weather_types = {key: weather.count(key) for key in weather}\n",
        "\n",
        "    return weather_types"
      ],
      "metadata": {
        "id": "3gkR5gl0SyYO"
      },
      "execution_count": 119,
      "outputs": []
    },
    {
      "cell_type": "markdown",
      "source": [
        "8. (3б) Викличте цю функцію тричі з різними аргументами та виведіть результати на екран."
      ],
      "metadata": {
        "id": "x4zhem_2Syf7"
      }
    },
    {
      "cell_type": "code",
      "source": [
        "print(weather([\"sunny\", \"sunny\", \"rainy\", \"windy\", \"snowy\", \"cloudy\", \"rainy\"]))"
      ],
      "metadata": {
        "id": "B0agh7urS0Fc",
        "colab": {
          "base_uri": "https://localhost:8080/"
        },
        "outputId": "dc0450ad-4226-42dd-c1ea-865a26120652"
      },
      "execution_count": 120,
      "outputs": [
        {
          "output_type": "stream",
          "name": "stdout",
          "text": [
            "{'sunny': 2, 'rainy': 2, 'windy': 1, 'snowy': 1, 'cloudy': 1}\n"
          ]
        }
      ]
    },
    {
      "cell_type": "markdown",
      "source": [
        "9. (15б) Напишіть програму, яка б шукала необхідне число у **впорядкованому** списку цілочислених значень, де\n",
        "\n",
        "\n",
        "1.   число має вводитись з консолі.\n",
        "2.   власне алгоритм пошуку винесений в окрему функцію, яка повертає булеве значення (знайдено число - True, не знайдено - False).\n",
        "3. в залежності від результату функції, виведіть на екран повідомлення про успішний або ж неуспішний пошук.\n",
        "\n",
        "\n",
        "**Зауваження**: використовувати оператор **in** заборонено."
      ],
      "metadata": {
        "id": "bLgviTMlUlNG"
      }
    },
    {
      "cell_type": "code",
      "source": [
        "def desired_num(list_nums, num):\n",
        "\n",
        "    list_nums.sort()\n",
        "\n",
        "    start = 0\n",
        "    end = 0\n",
        "    len(list_nums) - 1\n",
        "\n",
        "    while start <= end:\n",
        "        mid = start + (end - start) // 2\n",
        "        if list_nums[mid] == num:\n",
        "            return True\n",
        "        elif list_nums[mid] < num:\n",
        "            start = mid + 1\n",
        "        else:\n",
        "            end = mid - 1\n",
        "\n",
        "    return False\n",
        "\n",
        "number = int(input())\n",
        "\n",
        "print(desired_num([100, 23, 5, 15, 30], number))"
      ],
      "metadata": {
        "id": "LAHz6MmdcWfP",
        "colab": {
          "base_uri": "https://localhost:8080/"
        },
        "outputId": "b480d5ad-768d-4829-9e79-2717150f6931"
      },
      "execution_count": 121,
      "outputs": [
        {
          "output_type": "stream",
          "name": "stdout",
          "text": [
            "100\n",
            "False\n"
          ]
        }
      ]
    },
    {
      "cell_type": "markdown",
      "source": [
        "# II. Lambda functions."
      ],
      "metadata": {
        "id": "wCKOEiKhLSld"
      }
    },
    {
      "cell_type": "markdown",
      "source": [
        "10. (6б) Визначте анонімну функцію, що виконувала б завдання з задачі №1."
      ],
      "metadata": {
        "id": "c4EBfW6QcXF7"
      }
    },
    {
      "cell_type": "code",
      "source": [
        "division = lambda num1, num2 : num1 + num2\n",
        "print(division(10, 5))"
      ],
      "metadata": {
        "id": "sGgO6KjuhUj5",
        "colab": {
          "base_uri": "https://localhost:8080/"
        },
        "outputId": "0c40be8a-51be-4f10-878c-05c3ff23447a"
      },
      "execution_count": 122,
      "outputs": [
        {
          "output_type": "stream",
          "name": "stdout",
          "text": [
            "15\n"
          ]
        }
      ]
    },
    {
      "cell_type": "markdown",
      "source": [
        "11. (5б) В яких випадках варто використовувати лямбда-функції?"
      ],
      "metadata": {
        "id": "fWa0efmRhepO"
      }
    },
    {
      "cell_type": "markdown",
      "source": [
        "*Варто використовувати лямбда-функції, коли ви хочете створити функції, яка міститимуть лише прості вирази. Також вони корисні, коли ви хочете скористатися функцією один раз."
      ],
      "metadata": {
        "id": "R68BViaPhad_"
      }
    },
    {
      "cell_type": "markdown",
      "source": [
        "12. (9б) Визначте список з рядками. Після цього визначте анонімну функцію для отримання першого символу у верхньому регістрі для кожного рядка списку.\n",
        "*Підказка*: використовуйте анонімну функцію в якості агрумента до вбудованої ф-ції, яка створена для застосування функцій над iterable обʼєктами.\n",
        "Результат виведіть на екран у вигляді кортежу."
      ],
      "metadata": {
        "id": "0CL6ikIkhU7j"
      }
    },
    {
      "cell_type": "code",
      "source": [
        "my_list = [\"horse\", \"eagle \", \"lemur\", \"ladybug\", \"octopus\"]\n",
        "\n",
        "first_letter = lambda list_1: list_1[0].upper()\n",
        "\n",
        "print(list(map(first_letter, my_list)))"
      ],
      "metadata": {
        "id": "I1Lw2SSNhhJw",
        "colab": {
          "base_uri": "https://localhost:8080/"
        },
        "outputId": "85858612-510e-497a-f51d-406f3a16ee9a"
      },
      "execution_count": 123,
      "outputs": [
        {
          "output_type": "stream",
          "name": "stdout",
          "text": [
            "['H', 'E', 'L', 'L', 'O']\n"
          ]
        }
      ]
    },
    {
      "cell_type": "markdown",
      "source": [
        "# III. Decorators."
      ],
      "metadata": {
        "id": "rgGmGt67m5yi"
      }
    },
    {
      "cell_type": "markdown",
      "source": [
        "13. (15б) Визначте декоратор, який би виводив у консоль повідомлення про початок роботи і назву функції, а після відпрацювання функції - повідомлення про закінчення роботи і назву функції, що задекорована."
      ],
      "metadata": {
        "id": "DZm1W0Qqncu8"
      }
    },
    {
      "cell_type": "code",
      "source": [
        "def decorator(func):\n",
        "    def inner(*args, **kwargs):\n",
        "        print(f\"Функція {func.__name__} запущена на виконання \")\n",
        "\n",
        "        result = func(*args, **kwargs)\n",
        "        print(f\"Функція {func.__name__} завершила роботу\")\n",
        "        return result\n",
        "    return inner\n",
        "\n",
        "@decorator\n",
        "def try_function():\n",
        "    print(\"Функція опрацьовується \")\n",
        "\n",
        "try_function()"
      ],
      "metadata": {
        "id": "5s3X3F6soer0",
        "colab": {
          "base_uri": "https://localhost:8080/"
        },
        "outputId": "2146d888-6e6d-4a22-9dde-1f05a5f411e4"
      },
      "execution_count": 124,
      "outputs": [
        {
          "output_type": "stream",
          "name": "stdout",
          "text": [
            "Функція try_function запущена на виконання \n",
            "Функція опрацьовується \n",
            "Функція try_function завершила роботу\n"
          ]
        }
      ]
    },
    {
      "cell_type": "markdown",
      "source": [
        "14. (7б) Задекоруйте функції з завдання 3, 5 та 6 декоратором із завдання 13. *Примітка*: продемонструйте 2 способи, як можна задекорувати функції (**УВАГА**: не декоруйте функції двічі!)."
      ],
      "metadata": {
        "id": "AlGt40oVofHB"
      }
    },
    {
      "cell_type": "code",
      "source": [
        "@decorator\n",
        "def subtraction(num1, num2=1):\n",
        "  print(num1 - num2)\n",
        "\n",
        "@decorator\n",
        "def division(num1, num2):\n",
        "  if num2 == 0:\n",
        "    print(None)\n",
        "  else:\n",
        "    print(num1 / num2)\n",
        "\n",
        "sum = decorator(sum)"
      ],
      "metadata": {
        "id": "hkxhoRVqo1AW"
      },
      "execution_count": 125,
      "outputs": []
    },
    {
      "cell_type": "markdown",
      "source": [
        "15. (2б) Викличте одну з задекорованих функцій і виведіть її результат на екран."
      ],
      "metadata": {
        "id": "6QkS0Kxzo4UR"
      }
    },
    {
      "cell_type": "code",
      "source": [
        "division(10, 5)\n",
        "sum(5, 45)"
      ],
      "metadata": {
        "id": "BCCCPai6o-y5",
        "colab": {
          "base_uri": "https://localhost:8080/"
        },
        "outputId": "1bfaa4b2-c099-460a-cbaa-629e26c82e15"
      },
      "execution_count": 128,
      "outputs": [
        {
          "output_type": "stream",
          "name": "stdout",
          "text": [
            "Функція division запущена на виконання \n",
            "2.0\n",
            "Функція division завершила роботу\n",
            "Функція sum запущена на виконання \n",
            "Функція sum завершила роботу\n"
          ]
        },
        {
          "output_type": "execute_result",
          "data": {
            "text/plain": [
              "50"
            ]
          },
          "metadata": {},
          "execution_count": 128
        }
      ]
    },
    {
      "cell_type": "markdown",
      "source": [
        "# Вітаю! Ви велика(ий) молодець, що впоралась(вся). Похваліть себе та побалуйте чимось приємним. Я Вами пишаюся."
      ],
      "metadata": {
        "id": "CSN0Q5pMQVNQ"
      }
    }
  ]
}