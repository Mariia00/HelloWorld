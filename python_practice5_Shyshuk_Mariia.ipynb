{
  "nbformat": 4,
  "nbformat_minor": 0,
  "metadata": {
    "colab": {
      "provenance": [],
      "include_colab_link": true
    },
    "kernelspec": {
      "name": "python3",
      "display_name": "Python 3"
    },
    "language_info": {
      "name": "python"
    }
  },
  "cells": [
    {
      "cell_type": "markdown",
      "metadata": {
        "id": "view-in-github",
        "colab_type": "text"
      },
      "source": [
        "<a href=\"https://colab.research.google.com/github/Mariia00/HelloWorld/blob/main/python_practice5_Shyshuk_Mariia.ipynb\" target=\"_parent\"><img src=\"https://colab.research.google.com/assets/colab-badge.svg\" alt=\"Open In Colab\"/></a>"
      ]
    },
    {
      "cell_type": "markdown",
      "source": [
        "# I. OOP"
      ],
      "metadata": {
        "id": "awfU0tMnOlHH"
      }
    },
    {
      "cell_type": "markdown",
      "source": [
        "1. (7б). Створіть клас Animal, додайте docstring, три атрибути, один з яких має значення за замовчуванням та два методи на свій розсуд."
      ],
      "metadata": {
        "id": "T6r88C4sOwbI"
      }
    },
    {
      "cell_type": "code",
      "source": [
        "class Animal:\n",
        "    \"\"\"\n",
        "    Клас, що описує тварину.\n",
        "\n",
        "    Атрибути класу:\n",
        "    - kind (str): Вид тварини\n",
        "    - family (str): Родина тварини\n",
        "    - is_eukaryotes (boolean): Тварина відноситься до еукарітоів\n",
        "\n",
        "    Методи класу:\n",
        "    - breathe(): Виводить чи тварина вміє дихати\n",
        "    - info(): Виводить базову інформацію про тварину\n",
        "    \"\"\"\n",
        "\n",
        "    def __init__(self, kind, family, is_eukaryotes=True):\n",
        "      self.kind = kind\n",
        "      self.family = family\n",
        "      self.is_eukaryotes = is_eukaryotes\n",
        "\n",
        "\n",
        "    def breathe(self):\n",
        "      return f\"The {self.kind} can breathe \"\n",
        "\n",
        "\n",
        "    def info(self):\n",
        "      return f\"Animal kind: {self.kind}; \\nAnimal family: {self.family}; \\nIs animal an eukaryotes: {self.is_eukaryotes}\""
      ],
      "metadata": {
        "id": "fWXuCGV8Oqrn"
      },
      "execution_count": 26,
      "outputs": []
    },
    {
      "cell_type": "markdown",
      "source": [
        "1.1. (5б). Створіть два обʼєкти цього класу. На одному обʼєкті отримайте значення його атрибуту, а на іншому викличте один з його методів."
      ],
      "metadata": {
        "id": "CTu5Dt0_UKul"
      }
    },
    {
      "cell_type": "code",
      "source": [
        "fox = Animal(\"Red Fox\", \"Canidae\")\n",
        "print(fox.kind)\n",
        "print(fox.info())"
      ],
      "metadata": {
        "id": "nLQqAIlKUQRP",
        "colab": {
          "base_uri": "https://localhost:8080/"
        },
        "outputId": "1913a9ef-a714-46d6-d9fa-13a2896d35c7"
      },
      "execution_count": 27,
      "outputs": [
        {
          "output_type": "stream",
          "name": "stdout",
          "text": [
            "Red Fox\n",
            "Animal kind: Red Fox; \n",
            "Animal family: Canidae; \n",
            "Is animal an eukaryotes: True\n"
          ]
        }
      ]
    },
    {
      "cell_type": "markdown",
      "source": [
        "2. (9б). Створіть клас, де атрибути мають різні рівні доступу. Спробуйте отримати їхні значення та опишіть результати."
      ],
      "metadata": {
        "id": "3KKpQYcWRNgj"
      }
    },
    {
      "cell_type": "code",
      "source": [
        "class Personal_information:\n",
        "\n",
        "  #public\n",
        "  name = None\n",
        "\n",
        "  #protected\n",
        "  _phone_number = None\n",
        "\n",
        "  #private\n",
        "  __date_of_birth = None\n",
        "\n",
        "\n",
        "  def __init__(self, name, _phone_number, __date_of_birth):\n",
        "    self.name = name\n",
        "    self._phone_number  = _phone_number\n",
        "    self.__date_of_birth  = __date_of_birth\n",
        "\n",
        "  def get_name(self):\n",
        "    return self.name\n",
        "\n",
        "  def _get_protected_phone_number(self):\n",
        "    return self._phone_number\n",
        "\n",
        "  def __get_private_date_of_birth(self):\n",
        "    print(f\"The private attribute is {self.__date_of_birth=}\")\n",
        "\n",
        "  def accessPrivateFunction(self):\n",
        "    self.__get_private_date_of_birth()\n",
        "\n",
        "\n",
        "\n",
        "\n",
        "person_1 = Personal_information(\"Amy\", \"0675432811\", \"15.05.1995\")\n",
        "\n",
        "print(person_1.get_name())\n",
        "print(person_1._get_protected_phone_number())\n",
        "person_1.accessPrivateFunction()"
      ],
      "metadata": {
        "id": "PlMQmzciRM_D",
        "colab": {
          "base_uri": "https://localhost:8080/"
        },
        "outputId": "42652efc-b8f6-40e1-cff4-d4aa3daa2329"
      },
      "execution_count": 37,
      "outputs": [
        {
          "output_type": "stream",
          "name": "stdout",
          "text": [
            "Amy\n",
            "0675432811\n",
            "The private attribute is self.__date_of_birth='15.05.1995'\n"
          ]
        }
      ]
    },
    {
      "cell_type": "markdown",
      "source": [
        "3. (8б). Як ви розумієте термін self? Для чого використовується метод __init __?"
      ],
      "metadata": {
        "id": "iaoOLp4RRZyc"
      }
    },
    {
      "cell_type": "markdown",
      "source": [
        "*Self вказує на об'єкт, для якого викликано певний метод. За допомогою цього ключового слова ми можемо отримати доступ до атрибутів та методів класу в Python.\n",
        "\n",
        "__init__ це конструктор, він автоматично викликається, коли створюється новий екземпляр (об’єкт) класу. Метод __init__ дозволяє ініціалізувати атрибути (змінні) об’єкта.*"
      ],
      "metadata": {
        "id": "-yuvBRjFRlz5"
      }
    },
    {
      "cell_type": "markdown",
      "source": [
        "4. (8б). Створіть клас Фігура без атрибутів, з методом get_area для отримання площі фігури, що повертає 0 та __add __, який приймає self та other в якості аргументів, а повертає суму площин фігур self та other."
      ],
      "metadata": {
        "id": "nVectYeATZAi"
      }
    },
    {
      "cell_type": "code",
      "source": [
        "class Figure:\n",
        "    def get_area(self):\n",
        "        return 0\n",
        "\n",
        "    def __add__(self, other):\n",
        "        return self.get_area() + other.get_area()\n",
        "\n",
        "triangle = Figure()\n",
        "square = Figure()\n",
        "\n",
        "result = triangle.__add__(square)\n",
        "print(result)"
      ],
      "metadata": {
        "id": "EYvcpzHbRZLz",
        "colab": {
          "base_uri": "https://localhost:8080/"
        },
        "outputId": "f55f67a4-2ff1-4373-c0cd-3c39f40a29b0"
      },
      "execution_count": 38,
      "outputs": [
        {
          "output_type": "stream",
          "name": "stdout",
          "text": [
            "0\n"
          ]
        }
      ]
    },
    {
      "cell_type": "markdown",
      "source": [
        "5. (11б). Створіть 2 дочірніх класи від Фігури: Трикутник та Коло, які мають атрибути, необхідні для розрахунку площин. Визначте метод get_area в кожному з них так, щоби вони розраховували площу в залежності від формули для кожного типу фігури. Створіть обʼєкт класу Трикутник та обʼєкт класу Коло. Виконайте операцію суми за допомогою оператора + між ними."
      ],
      "metadata": {
        "id": "PheOkqlCg9SD"
      }
    },
    {
      "cell_type": "code",
      "source": [
        "import math\n",
        "\n",
        "class Triangle(Figure):\n",
        "  __base = 0\n",
        "  __perpendicular_height = 0\n",
        "\n",
        "  def __init__(self, __base, __perpendicular_height):\n",
        "    self.__base = __base\n",
        "    self.__perpendicular_height = __perpendicular_height\n",
        "\n",
        "  def get_area(self):\n",
        "    return f\"Площа трикутника: {0.5*self.__base*self.__perpendicular_height}\"\n",
        "\n",
        "\n",
        "class Circle(Figure):\n",
        "  __radius = 0\n",
        "\n",
        "  def __init__(self, __radius):\n",
        "    self.__radius = __radius\n",
        "\n",
        "  def get_area(self):\n",
        "    return f\" Площа кола: {math.pi*self.__radius*self.__radius}\"\n",
        "\n",
        "\n",
        "triangle_1 = Triangle(10, 25)\n",
        "print(triangle_1.get_area())\n",
        "\n",
        "circle = Circle(5)\n",
        "print(circle.get_area())"
      ],
      "metadata": {
        "id": "7Jo8-rqlhNSw",
        "colab": {
          "base_uri": "https://localhost:8080/"
        },
        "outputId": "fa097e8b-d5bb-4177-ad34-d0fdc0a206e9"
      },
      "execution_count": 40,
      "outputs": [
        {
          "output_type": "stream",
          "name": "stdout",
          "text": [
            "Площа трикутника: 125.0\n",
            " Площа кола: 78.53981633974483\n"
          ]
        }
      ]
    },
    {
      "cell_type": "markdown",
      "source": [
        "6. (7б). Продемонструйте різницю між isinstance та issubclass."
      ],
      "metadata": {
        "id": "WxW51aGIhN2q"
      }
    },
    {
      "cell_type": "code",
      "source": [
        "# isinstance\n",
        "print(isinstance(triangle_1, Figure))     # перевіряється чи є трикутник екземпляром класу Figure\n",
        "print(isinstance(triangle_1, Triangle))   # перевіряється чи є трикутник екземпляром класу Triangle\n",
        "print(isinstance(triangle_1, Circle))   # перевіряється чи є трикутник екземпляром класу Circle\n",
        "\n",
        "print(\"\\n\")\n",
        "\n",
        "# issubclass\n",
        "print(issubclass(Triangle, Figure))   # перевіряється чи є Traingle підкласом Figure\n",
        "print(issubclass(Circle, Figure))   # перевіряється чи є Circle підкласом Figure\n",
        "print(issubclass(Animal, Figure))   # перевіряється чи є Animal підкласом Figure"
      ],
      "metadata": {
        "id": "E-QybeYShdAu",
        "colab": {
          "base_uri": "https://localhost:8080/"
        },
        "outputId": "6bc61bdb-ee9c-4f85-bf44-862780d6dd9e"
      },
      "execution_count": 43,
      "outputs": [
        {
          "output_type": "stream",
          "name": "stdout",
          "text": [
            "True\n",
            "True\n",
            "False\n",
            "\n",
            "\n",
            "True\n",
            "True\n",
            "False\n"
          ]
        }
      ]
    },
    {
      "cell_type": "markdown",
      "source": [
        "7. (16б). Створіть клас BankAccount з приватними атрибутами balance та account_number.\n",
        "Реалізуйте методи поповнення та зняття коштів, забезпечивши належну інкапсуляцію. Підказка: використовуйте декоратори getter та setter."
      ],
      "metadata": {
        "id": "Mrup7UL3hfC3"
      }
    },
    {
      "cell_type": "code",
      "source": [
        "class BankAccount:\n",
        "\n",
        "  def __init__(self):\n",
        "    self.__balance = 0\n",
        "    self.__account_number = None\n",
        "\n",
        "  @property\n",
        "  def balance(self):\n",
        "    return self.__balance\n",
        "\n",
        "  @balance.setter\n",
        "  def balance(self,value):\n",
        "    self.__balance = value\n",
        "\n",
        "  @property\n",
        "  def account_number(self):\n",
        "    return self.__account_number\n",
        "\n",
        "  @account_number.setter\n",
        "  def account_number(self, value):\n",
        "    self.__account_number = value\n",
        "\n",
        "  def replenish_money(self, amount):\n",
        "    if amount < 0:\n",
        "      print(\"Ви не можете поповнити цю суму грошей\")\n",
        "    else:\n",
        "      self.__balance += amount\n",
        "\n",
        "\n",
        "  def withdraw_money(self, amount):\n",
        "    if 0 < amount <= self.__balance:\n",
        "      self.__balance -= amount\n",
        "    else:\n",
        "      print(\"Ви не можете зняти цю суму грошей\")\n",
        "\n",
        "\n",
        "my_banc_acc = BankAccount()\n",
        "\n",
        "my_banc_acc.balance = 10000\n",
        "my_banc_acc.account_number = \"34567890098\"\n",
        "\n",
        "my_banc_acc.replenish_money(163)\n",
        "print(my_banc_acc.balance)\n",
        "\n",
        "my_banc_acc.replenish_money(-780)\n",
        "my_banc_acc.withdraw_money(90)\n",
        "print(my_banc_acc.balance)\n",
        "\n",
        "my_banc_acc.withdraw_money(-254)\n",
        "my_banc_acc.withdraw_money(1590)"
      ],
      "metadata": {
        "id": "Vi8gw9G6i37Y",
        "colab": {
          "base_uri": "https://localhost:8080/"
        },
        "outputId": "e82f2d80-0d5f-4467-92b6-393886812eaf"
      },
      "execution_count": 44,
      "outputs": [
        {
          "output_type": "stream",
          "name": "stdout",
          "text": [
            "10163\n",
            "Ви не можете поповнити цю суму грошей\n",
            "10073\n",
            "Ви не можете зняти цю суму грошей\n"
          ]
        }
      ]
    },
    {
      "cell_type": "markdown",
      "source": [
        "8. (16б). Створіть клас Library, який містить список об'єктів типу Book.\n",
        "Реалізуйте методи для додавання книги, видалення книги та відображення списку книг."
      ],
      "metadata": {
        "id": "q1mgZYuFjB_q"
      }
    },
    {
      "cell_type": "code",
      "source": [
        "class Book:\n",
        "\n",
        "  def __init__(self, title = None, author = None):\n",
        "    self.__title = title\n",
        "    self.__author = author\n",
        "\n",
        "  def to_string(self):\n",
        "    return f\"Name: {self.__title};\\nAuthor: {self.__author};\"\n",
        "\n",
        "\n",
        "class Library:\n",
        "\n",
        "  def __init__(self):\n",
        "    self.__book_list = []\n",
        "\n",
        "  def add_book(self, book):\n",
        "    self.__book_list.append(book)\n",
        "\n",
        "  def remove_book(self, book):\n",
        "    if book in self.__book_list:\n",
        "      self.__book_list.remove(book)\n",
        "    else:\n",
        "      print(\"Цієї книги немає у списку\")\n",
        "\n",
        "  def show_book_list(self):\n",
        "    for i in range(len(self.__book_list)):\n",
        "      print(f\"Номер книги {i+1} \\n{self.__book_list[i].to_string()}\")\n",
        "\n",
        "\n",
        "library_list = Library()\n",
        "library_list.add_book(Book(\"Пригоди Шерлока Холмса\", \"Сер Артур Конан Дойл\"))\n",
        "library_list.add_book(Book(\"Алхімік\", \"Пауло Коельйо\"))\n",
        "library_list.add_book(Book(\"Таємничий острів\", \"Жуль Верн\"))\n",
        "\n",
        "library_list.show_book_list()"
      ],
      "metadata": {
        "id": "z1W8DINmjQQj",
        "colab": {
          "base_uri": "https://localhost:8080/"
        },
        "outputId": "e5a1789e-c37f-4395-8528-077fbf22a769"
      },
      "execution_count": 49,
      "outputs": [
        {
          "output_type": "stream",
          "name": "stdout",
          "text": [
            "Номер книги 1 \n",
            "Name: Пригоди Шерлока Холмса;\n",
            "Author: Сер Артур Конан Дойл;\n",
            "Номер книги 2 \n",
            "Name: Алхімік;\n",
            "Author: Пауло Коельйо;\n",
            "Номер книги 3 \n",
            "Name: Таємничий острів;\n",
            "Author: Жуль Верн;\n"
          ]
        }
      ]
    },
    {
      "cell_type": "markdown",
      "source": [
        "9. (13б). Створіть клас Person з атрибутами name та age.\n",
        "Створіть ще один клас Employee з такими атрибутами, як department та salary.\n",
        "Створіть клас Manager, який успадковує обидва класи Person та Employee. Продемонструйте використання множинної спадковості, створивши обʼєкт класу Manager та отримавши mro для цього класу."
      ],
      "metadata": {
        "id": "cCzctafPjwiZ"
      }
    },
    {
      "cell_type": "code",
      "source": [
        "class Person:\n",
        "    def __init__(self, name, age):\n",
        "        self.__name = name\n",
        "        self.__age = age\n",
        "\n",
        "    def get_name(self):\n",
        "        return self.__name\n",
        "\n",
        "    def get_age(self):\n",
        "        return self.__age\n",
        "\n",
        "    def to_string(self):\n",
        "        return f\"Прізвище та ім'я: {self.get_name()}, Вік: {self.get_age()}\"\n",
        "\n",
        "class Employee(Person):\n",
        "    def __init__(self, name, age, department, salary):\n",
        "        super().__init__(name, age)\n",
        "        self.__department = department\n",
        "        self.__salary = salary\n",
        "\n",
        "    def get_department(self):\n",
        "        return self.__department\n",
        "\n",
        "    def get_salary(self):\n",
        "        return self.__salary\n",
        "\n",
        "    def to_string(self):\n",
        "        return f\"Прізвище та ім'я: {self.get_name()}, Вік: {self.get_age()}, Відділ: {self.get_department()}, Зарплата: {self.get_salary()}\"\n",
        "\n",
        "class Manager(Employee):\n",
        "    def __init__(self, name, age, department, salary, qualification):\n",
        "        super().__init__(name, age, department, salary)\n",
        "        self.__qualification = qualification\n",
        "\n",
        "    def get_qualification(self):\n",
        "        return self.__qualification\n",
        "\n",
        "    def to_string(self):\n",
        "        return f\"Прізвище та ім'я: {self.get_name()}, Вік: {self.get_age()}, Відділ: {self.get_department()}, Зарплата: {self.get_salary()}, Освіта: {self.__qualification}\"\n",
        "\n",
        "\n",
        "person = Person(\"Шевчук Оксана\", 35)\n",
        "print(person.to_string())\n",
        "\n",
        "employee = Employee(\"Гончарук Іван\", 29, \"HR\", 26000)\n",
        "print(employee.to_string())\n",
        "\n",
        "manager = Manager(\"Коваль Дмитро\", 22, \"Менеджмент\", 21000, \"Бакалавр з менеджменту\")\n",
        "print(manager.to_string())"
      ],
      "metadata": {
        "id": "tZQ8-tfPk1k5",
        "colab": {
          "base_uri": "https://localhost:8080/"
        },
        "outputId": "56a0fa32-dfc1-43ca-fe94-47da4703bfad"
      },
      "execution_count": 53,
      "outputs": [
        {
          "output_type": "stream",
          "name": "stdout",
          "text": [
            "Прізвище та ім'я: Шевчук Оксана, Вік: 35\n",
            "Прізвище та ім'я: Гончарук Іван, Вік: 29, Відділ: HR, Зарплата: 26000\n",
            "Прізвище та ім'я: Коваль Дмитро, Вік: 22, Відділ: Менеджмент, Зарплата: 21000, Освіта: Бакалавр з менеджменту\n"
          ]
        }
      ]
    },
    {
      "cell_type": "markdown",
      "source": [
        "# Вітаю! Ви велика(ий) молодець, що впоралась(вся). Похваліть себе та побалуйте чимось приємним. Я Вами пишаюся."
      ],
      "metadata": {
        "id": "dzH9DdFTOxCC"
      }
    }
  ]
}